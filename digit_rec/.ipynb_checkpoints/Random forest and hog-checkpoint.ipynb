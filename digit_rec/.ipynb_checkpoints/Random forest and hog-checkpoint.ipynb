{
 "cells": [
  {
   "cell_type": "code",
   "execution_count": 1,
   "metadata": {
    "collapsed": true
   },
   "outputs": [],
   "source": [
    "#import dependancies\n",
    "import pandas as pd\n",
    "import numpy as np\n",
    "from sklearn import svm, cross_validation as cv\n",
    "from sklearn.ensemble import RandomForestClassifier as RFC\n",
    "from numpy.lib.stride_tricks import as_strided as ast\n",
    "from skimage.feature import hog"
   ]
  },
  {
   "cell_type": "code",
   "execution_count": 2,
   "metadata": {
    "collapsed": true
   },
   "outputs": [],
   "source": [
    "#get_features function using hog method\n",
    "def get_features(imgs):\n",
    "    feats = np.empty([imgs.shape[0], 512])\n",
    "    k = 0\n",
    "    \n",
    "    for img in imgs:\n",
    "        img_feats = hog(img, orientations=8, pixels_per_cell=(5,5), cells_per_block=(2,2))\n",
    "        \n",
    "        feats[k,:] = img_feats\n",
    "        k = k + 1\n",
    "        \n",
    "    return feats\n"
   ]
  },
  {
   "cell_type": "code",
   "execution_count": 3,
   "metadata": {
    "collapsed": true
   },
   "outputs": [],
   "source": [
    "# The competition datafiles are in the directory ../input\n",
    "# Read competition data files:\n",
    "train = pd.read_csv(\"C:/Users/Siddhant/Desktop/notebooks/digit_rec/input/train.csv\")\n",
    "test  = pd.read_csv(\"C:/Users/Siddhant/Desktop/notebooks/digit_rec/input/test.csv\")\n",
    "\n",
    "labels = train[[0]].values.ravel()\n",
    "train = train.iloc[:,1:].values\n"
   ]
  },
  {
   "cell_type": "code",
   "execution_count": 4,
   "metadata": {
    "collapsed": true
   },
   "outputs": [],
   "source": [
    "# Rescale data\n",
    "train = train.astype(np.float32)\n",
    "train = np.multiply(train, 1/255.0)\n",
    "\n",
    "test = test.values.astype(np.float32)\n",
    "test = np.multiply(test, 1/255.0)"
   ]
  },
  {
   "cell_type": "code",
   "execution_count": 5,
   "metadata": {
    "collapsed": true
   },
   "outputs": [],
   "source": [
    "# Feature test\n",
    "train = np.reshape(train, [train.shape[0], 28, 28])\n",
    "test = np.reshape(test, [test.shape[0], 28, 28])\n",
    "train_feats = get_features(train)\n",
    "test_feats = get_features(test)"
   ]
  },
  {
   "cell_type": "code",
   "execution_count": 6,
   "metadata": {
    "collapsed": true
   },
   "outputs": [],
   "source": [
    "classifier = RFC(n_estimators=200, max_depth=None, n_jobs=-1)"
   ]
  },
  {
   "cell_type": "code",
   "execution_count": 7,
   "metadata": {
    "collapsed": false
   },
   "outputs": [
    {
     "name": "stdout",
     "output_type": "stream",
     "text": [
      "Accuracy = 0.97 +- 0.00\n"
     ]
    }
   ],
   "source": [
    "# Crossvalidation test\n",
    "scores = cv.cross_val_score(classifier, train_feats, labels, cv=5)\n",
    "print(\"Accuracy = %0.2f +- %0.2f\" % (scores.mean(), 2 * scores.std()))"
   ]
  },
  {
   "cell_type": "code",
   "execution_count": 8,
   "metadata": {
    "collapsed": true
   },
   "outputs": [],
   "source": [
    "# Real thing\n",
    "classifier.fit(train_feats, labels)\n",
    "predicted = classifier.predict(test_feats)\n",
    "np.savetxt('digit_rec_rfchog_output.csv', np.c_[range(1, 1+len(test_feats)), predicted], \n",
    "    delimiter=',', comments='', header='ImageId,Label', fmt='%d')\n"
   ]
  },
  {
   "cell_type": "code",
   "execution_count": null,
   "metadata": {
    "collapsed": true
   },
   "outputs": [],
   "source": []
  }
 ],
 "metadata": {
  "kernelspec": {
   "display_name": "Python 2",
   "language": "python",
   "name": "python2"
  },
  "language_info": {
   "codemirror_mode": {
    "name": "ipython",
    "version": 2
   },
   "file_extension": ".py",
   "mimetype": "text/x-python",
   "name": "python",
   "nbconvert_exporter": "python",
   "pygments_lexer": "ipython2",
   "version": "2.7.11"
  }
 },
 "nbformat": 4,
 "nbformat_minor": 0
}
