{
 "cells": [
  {
   "cell_type": "code",
   "execution_count": 1,
   "metadata": {
    "collapsed": true
   },
   "outputs": [],
   "source": [
    "# import pandas and logistic regression function from sklearn\n",
    "import pandas as pd\n",
    "from sklearn.linear_model import LogisticRegression"
   ]
  },
  {
   "cell_type": "code",
   "execution_count": 6,
   "metadata": {
    "collapsed": false
   },
   "outputs": [],
   "source": [
    "# The competition datafiles are in the directory ../input\n",
    "# Read competition data files:\n",
    "train = pd.read_csv(\"C:/Users/Siddhant/Desktop/notebooks/digit_rec/input/train.csv\")\n",
    "test = pd.read_csv(\"C:/Users/Siddhant/Desktop/notebooks/digit_rec/input/test.csv\")\n"
   ]
  },
  {
   "cell_type": "code",
   "execution_count": 7,
   "metadata": {
    "collapsed": true
   },
   "outputs": [],
   "source": [
    "#normalizing pixel values in train and test data\n",
    "\n",
    "train.loc[:,'pixel0':] =  train.loc[:,'pixel0':] * 1.0/255.0\n",
    "test.loc[:,'pixel0':] =  test.loc[:,'pixel0':] * 1.0/255.0"
   ]
  },
  {
   "cell_type": "code",
   "execution_count": 8,
   "metadata": {
    "collapsed": true
   },
   "outputs": [],
   "source": [
    "#initializing logistic regression function and fitting in train data\n",
    "logreg = LogisticRegression(random_state = 1)\n",
    "logreg.fit(train.loc[:,'pixel0':], train.loc[:,'label'])\n",
    "predictions = logreg.predict(test)"
   ]
  },
  {
   "cell_type": "code",
   "execution_count": 18,
   "metadata": {
    "collapsed": false,
    "scrolled": true
   },
   "outputs": [],
   "source": [
    "#saving predictions to pandas dataframe\n",
    "submission = pd.DataFrame({\"ImageId\": range(1,test.shape[0]+1),\n",
    "    \"label\": predictions})"
   ]
  },
  {
   "cell_type": "code",
   "execution_count": 19,
   "metadata": {
    "collapsed": true
   },
   "outputs": [],
   "source": [
    "submission.to_csv(\"digit_rec_output.csv\", index=False)"
   ]
  },
  {
   "cell_type": "code",
   "execution_count": null,
   "metadata": {
    "collapsed": true
   },
   "outputs": [],
   "source": []
  }
 ],
 "metadata": {
  "kernelspec": {
   "display_name": "Python 2",
   "language": "python",
   "name": "python2"
  },
  "language_info": {
   "codemirror_mode": {
    "name": "ipython",
    "version": 2
   },
   "file_extension": ".py",
   "mimetype": "text/x-python",
   "name": "python",
   "nbconvert_exporter": "python",
   "pygments_lexer": "ipython2",
   "version": "2.7.11"
  }
 },
 "nbformat": 4,
 "nbformat_minor": 0
}
