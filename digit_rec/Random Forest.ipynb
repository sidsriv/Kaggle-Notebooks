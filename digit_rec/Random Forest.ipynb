{
 "cells": [
  {
   "cell_type": "code",
   "execution_count": 2,
   "metadata": {
    "collapsed": false
   },
   "outputs": [],
   "source": [
    "#import pandas and random forest function from sklearn\n",
    "import pandas as pd \n",
    "from sklearn.ensemble import RandomForestClassifier\n",
    "#import cross validation from sklearn\n",
    "from sklearn import cross_validation"
   ]
  },
  {
   "cell_type": "code",
   "execution_count": 3,
   "metadata": {
    "collapsed": true
   },
   "outputs": [],
   "source": [
    "#get train and test data\n",
    "train = pd.read_csv(\"C:/Users/Siddhant/Desktop/notebooks/digit_rec/input/train.csv\")\n",
    "test = pd.read_csv(\"C:/Users/Siddhant/Desktop/notebooks/digit_rec/input/test.csv\")"
   ]
  },
  {
   "cell_type": "code",
   "execution_count": 4,
   "metadata": {
    "collapsed": true
   },
   "outputs": [],
   "source": [
    "#accuracy function for given model\n",
    "def accuracy(predictions):\n",
    "    count = 0.0\n",
    "    for i in range(len(predictions)):\n",
    "        if predictions[i] == train[\"label\"][i]:\n",
    "            count = count + 1.0\n",
    "            \n",
    "    accuracy = count/len(predictions)\n",
    "    print (\"--- Accuracy value is \" + str(accuracy))\n",
    "    return accuracy"
   ]
  },
  {
   "cell_type": "code",
   "execution_count": 5,
   "metadata": {
    "collapsed": true
   },
   "outputs": [],
   "source": [
    "predictors = []\n",
    "for i in range(784):\n",
    "    string = \"pixel\" + str(i)\n",
    "    predictors.append(string)"
   ]
  },
  {
   "cell_type": "code",
   "execution_count": 6,
   "metadata": {
    "collapsed": true
   },
   "outputs": [],
   "source": [
    "# Initialize our algorithm with the default paramters\n",
    "# n_estimators is the number of trees we want to make\n",
    "# min_samples_split is the minimum number of rows we need to make a split\n",
    "# min_samples_leaf is the minimum number of samples we can have at the place where a tree branch ends (the bottom points of the tree)\n",
    "rfc = RandomForestClassifier(random_state=1, n_estimators=150, min_samples_split=2, min_samples_leaf=1)"
   ]
  },
  {
   "cell_type": "code",
   "execution_count": 9,
   "metadata": {
    "collapsed": false
   },
   "outputs": [],
   "source": [
    "# Compute the accuracy score for all the cross validation folds. \n",
    "scores = cross_validation.cross_val_score(rfc, train[predictors], train[\"label\"], cv=3)"
   ]
  },
  {
   "cell_type": "code",
   "execution_count": 10,
   "metadata": {
    "collapsed": false
   },
   "outputs": [
    {
     "name": "stdout",
     "output_type": "stream",
     "text": [
      "[ 0.96186804  0.96270896  0.96449493]\n",
      "Cross validation scores = 0.963023974658\n"
     ]
    }
   ],
   "source": [
    "# Take the mean of the scores (because we have one for each fold)\n",
    "print (scores)\n",
    "print(\"Cross validation scores = \" + str(scores.mean()))"
   ]
  },
  {
   "cell_type": "code",
   "execution_count": 15,
   "metadata": {
    "collapsed": false
   },
   "outputs": [],
   "source": [
    "#training model on complete train data\n",
    "full_predictions = []\n",
    "# Fit the algorithm using the full training data.\n",
    "rfc.fit(train[predictors], train[\"label\"])\n",
    "# Predict using the test dataset.  We have to convert all the columns to floats to avoid an error.\n",
    "predictions = rfc.predict_proba(test[predictors]).astype(float)\n",
    "predictions = predictions.argmax(axis=1)"
   ]
  },
  {
   "cell_type": "code",
   "execution_count": 17,
   "metadata": {
    "collapsed": false
   },
   "outputs": [],
   "source": [
    "ImageId = []\n",
    "for i in range(1, 28001):\n",
    "    ImageId.append(i)\n",
    "\n",
    "submission = pd.DataFrame({\n",
    "        \"ImageId\": ImageId,\n",
    "        \"Label\": predictions\n",
    "    })\n"
   ]
  },
  {
   "cell_type": "code",
   "execution_count": 18,
   "metadata": {
    "collapsed": true
   },
   "outputs": [],
   "source": [
    "submission.to_csv(\"digit_rec_rfc_output.csv\", index=False)"
   ]
  },
  {
   "cell_type": "code",
   "execution_count": null,
   "metadata": {
    "collapsed": true
   },
   "outputs": [],
   "source": []
  }
 ],
 "metadata": {
  "kernelspec": {
   "display_name": "Python 2",
   "language": "python",
   "name": "python2"
  },
  "language_info": {
   "codemirror_mode": {
    "name": "ipython",
    "version": 2
   },
   "file_extension": ".py",
   "mimetype": "text/x-python",
   "name": "python",
   "nbconvert_exporter": "python",
   "pygments_lexer": "ipython2",
   "version": "2.7.11"
  }
 },
 "nbformat": 4,
 "nbformat_minor": 0
}
