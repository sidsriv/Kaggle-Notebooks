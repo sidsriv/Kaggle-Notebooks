{
 "cells": [
  {
   "cell_type": "code",
   "execution_count": 2,
   "metadata": {
    "collapsed": false,
    "scrolled": true
   },
   "outputs": [
    {
     "name": "stderr",
     "output_type": "stream",
     "text": [
      "WARNING (theano.configdefaults): g++ not detected ! Theano will be unable to execute optimized C-implementations (for both CPU and GPU) and will default to Python implementations. Performance will be severely degraded. To remove this warning, set Theano flags cxx to an empty string.\n",
      "WARNING:theano.configdefaults:g++ not detected ! Theano will be unable to execute optimized C-implementations (for both CPU and GPU) and will default to Python implementations. Performance will be severely degraded. To remove this warning, set Theano flags cxx to an empty string.\n"
     ]
    }
   ],
   "source": [
    "#import dependancies\n",
    "import pandas as pd\n",
    "import numpy as np\n",
    "import matplotlib.pyplot as plt\n",
    "import theano\n",
    "import theano.tensor as T\n",
    "import pickle\n",
    "import time\n",
    "theano.config.exception_verbosity = 'high'"
   ]
  },
  {
   "cell_type": "code",
   "execution_count": 3,
   "metadata": {
    "collapsed": true
   },
   "outputs": [],
   "source": [
    "#get data and preprocess\n",
    "train = pd.read_csv(\"C:/Users/Siddhant/Desktop/notebooks/digit_rec/input/train.csv\")\n",
    "test = pd.read_csv(\"C:/Users/Siddhant/Desktop/notebooks/digit_rec/input/test.csv\")\n",
    "trX = np.array(train.values[:][:, 1:], dtype=np.float32)/256\n",
    "trY = np.array(train.values[:][:, 0], dtype=int)\n",
    "teX = np.array(test.values[:], dtype=np.float32)/256\n",
    "trY_onehot = np.zeros((trY.shape[0], 10), dtype=np.float32)\n",
    "trY_onehot[np.arange(trY.shape[0]), trY] = 1"
   ]
  },
  {
   "cell_type": "code",
   "execution_count": 4,
   "metadata": {
    "collapsed": true
   },
   "outputs": [],
   "source": [
    "#function to make Prediction in to dataframe and then convert to csv file\n",
    "def make_submission_csv(predict, is_list=False):\n",
    "    if is_list:\n",
    "        df = pd.DataFrame({'ImageId': range(1, 28001), 'Label': predict})\n",
    "        df.to_csv(\"digit_rec_tensor_output.csv\", index=False)\n",
    "        return\n",
    "    pred = []\n",
    "    for i in range(28000):\n",
    "        pred.append(predict(test.values[i]))\n",
    "    df = pd.DataFrame({'ImageId': range(1, 28001), 'Label': pred})\n",
    "    df.to_csv(\"digit_rec_tensor_output.csv\", index=False)"
   ]
  },
  {
   "cell_type": "code",
   "execution_count": 5,
   "metadata": {
    "collapsed": true
   },
   "outputs": [],
   "source": [
    "def rectify(Z):\n",
    "    return T.maximum(Z, 0.)"
   ]
  },
  {
   "cell_type": "code",
   "execution_count": 6,
   "metadata": {
    "collapsed": true
   },
   "outputs": [],
   "source": [
    "def init_weights(shape):\n",
    "    return theano.shared(np.random.randn(*shape)*0.01)\n"
   ]
  },
  {
   "cell_type": "code",
   "execution_count": 7,
   "metadata": {
    "collapsed": true
   },
   "outputs": [],
   "source": [
    "def get_updates(cost, params, lr=np.float32(0.05)):\n",
    "    updates = []\n",
    "    grads = T.grad(cost, params)\n",
    "    for p, g in zip(params, grads):\n",
    "        updates.append([p, p - (g * lr)])\n",
    "    return updates\n"
   ]
  },
  {
   "cell_type": "code",
   "execution_count": 8,
   "metadata": {
    "collapsed": true
   },
   "outputs": [],
   "source": [
    "def model(X, w_h, w_o):\n",
    "    h = rectify(T.dot(X, w_h))\n",
    "    return T.nnet.softmax(T.dot(h, w_o))"
   ]
  },
  {
   "cell_type": "code",
   "execution_count": 9,
   "metadata": {
    "collapsed": true
   },
   "outputs": [],
   "source": [
    "w_h = theano.shared(np.random.randn(784, 60).astype(np.float32)*0.01, name='w_h')\n",
    "w_o = theano.shared(np.random.randn(60, 10).astype(np.float32)*0.01, name='w_o')\n",
    "X = T.fmatrix(name='X')\n",
    "labels = T.fmatrix(name='labels')\n",
    "prediction = model(X, w_h, w_o)\n",
    "cost = T.mean(T.nnet.categorical_crossentropy(prediction, labels))\n",
    "updates = get_updates(cost, [w_h, w_o])\n",
    "train_func = theano.function(\n",
    "    inputs=[X, labels], outputs=cost, updates=updates,\n",
    "    allow_input_downcast=True)\n",
    "predict_func = theano.function(\n",
    "    inputs=[X], outputs=prediction, allow_input_downcast=True)"
   ]
  },
  {
   "cell_type": "code",
   "execution_count": 10,
   "metadata": {
    "collapsed": false
   },
   "outputs": [
    {
     "name": "stdout",
     "output_type": "stream",
     "text": [
      "Iter: 0\n",
      "Cost: 2.30189275742\n",
      "('time ', 154.15741643961803)\n",
      "Iter: 1\n",
      "Cost: 2.30166435242\n",
      "('time ', 155.30672327665064)\n",
      "Iter: 2\n",
      "Cost: 2.30143404007\n",
      "('time ', 155.86206405486973)\n",
      "Iter: 3\n",
      "Cost: 2.30120062828\n",
      "('time ', 154.6348519183917)\n",
      "Iter: 4\n",
      "Cost: 2.30096364021\n",
      "('time ', 156.2361684939608)\n"
     ]
    }
   ],
   "source": [
    "costs = []\n",
    "niters = 5\n",
    "t = time.clock()\n",
    "for i in range(niters):\n",
    "    print(\"Iter: \"+str(i))\n",
    "    costt = train_func(trX, trY_onehot)\n",
    "    print(\"Cost: \"+str(costt))\n",
    "    costs.append(float(costt))\n",
    "    print(\"time \", (time.clock()-t))\n",
    "    t = time.clock()\n",
    "\n",
    "pickle.dump(costs, open(\"costs.p\", 'wb'))\n",
    "plt.scatter(np.arange(len(costs)), costs)\n",
    "plt.savefig(\"cost.png\")\n",
    "plt.show()\n",
    "make_submission_csv(np.argmax(predict_func(teX), axis=1), is_list=True)"
   ]
  },
  {
   "cell_type": "code",
   "execution_count": null,
   "metadata": {
    "collapsed": true
   },
   "outputs": [],
   "source": []
  }
 ],
 "metadata": {
  "kernelspec": {
   "display_name": "Python 2",
   "language": "python",
   "name": "python2"
  },
  "language_info": {
   "codemirror_mode": {
    "name": "ipython",
    "version": 2
   },
   "file_extension": ".py",
   "mimetype": "text/x-python",
   "name": "python",
   "nbconvert_exporter": "python",
   "pygments_lexer": "ipython2",
   "version": "2.7.11"
  }
 },
 "nbformat": 4,
 "nbformat_minor": 0
}
